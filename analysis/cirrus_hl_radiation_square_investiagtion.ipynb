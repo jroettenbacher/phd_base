{
 "cells": [
  {
   "cell_type": "code",
   "execution_count": 9,
   "metadata": {},
   "outputs": [
    {
     "data": {
      "text/plain": "'C:\\\\Users\\\\Johannes\\\\PycharmProjects\\\\phd_base\\\\analysis'"
     },
     "execution_count": 9,
     "metadata": {},
     "output_type": "execute_result"
    }
   ],
   "source": [
    "import numpy as np\n",
    "import logging\n",
    "import os\n",
    "import xarray as xr\n",
    "import pandas as pd\n",
    "import holoviews as hv\n",
    "from holoviews import opts\n",
    "os.getcwd()"
   ]
  },
  {
   "cell_type": "code",
   "execution_count": 10,
   "metadata": {},
   "outputs": [],
   "source": [
    "import sys\n",
    "sys.path.append(\"../pylim\")\n",
    "from pylim.helpers import get_path, make_dir\n",
    "from pylim import smart\n",
    "from pylim import reader\n",
    "from pylim.bacardi import fdw_attitude_correction\n",
    "\n",
    "log = logging.getLogger(__name__)\n",
    "log.addHandler(logging.StreamHandler())\n",
    "log.setLevel(logging.INFO)"
   ]
  },
  {
   "cell_type": "markdown",
   "metadata": {},
   "source": [
    "# 20210715 Spain flight for contrail outbreak and Radiation Square candidate"
   ]
  },
  {
   "cell_type": "code",
   "execution_count": 11,
   "metadata": {},
   "outputs": [
    {
     "name": "stdout",
     "output_type": "stream",
     "text": [
      "20210715 SMART fixed - contrail outbreak over Spain - Radiation Square\n"
     ]
    }
   ],
   "source": [
    "print(\"20210715 SMART fixed - contrail outbreak over Spain - Radiation Square\")\n",
    "rs_start = pd.Timestamp(2021, 7, 15, 8, 0)\n",
    "rs_end = pd.Timestamp(2021, 7, 15, 10, 0)\n",
    "flight = \"Flight_20210715a\"\n",
    "bacardi_dir = get_path(\"bacardi\", flight)\n",
    "smart_dir = get_path(\"calibrated\", flight)\n",
    "libradtran_dir = get_path(\"libradtran\", flight)\n",
    "sat_dir = get_path(\"satellite\", flight)\n",
    "if os.getcwd().startswith(\"C:\"):\n",
    "    outpath = f\"C:/Users/Johannes/Documents/Doktor/campaigns/CIRRUS-HL/case_studies/{flight}\"\n",
    "else:\n",
    "    outpath = f\"/projekt_agmwend/home_rad/jroettenbacher/case_studies/{flight}\"\n",
    "make_dir(outpath)\n",
    "ylims = (600, 1000)  # set ylims for all irradiance plots"
   ]
  },
  {
   "cell_type": "markdown",
   "metadata": {},
   "source": [
    "### Find files and read them in"
   ]
  },
  {
   "cell_type": "code",
   "execution_count": 12,
   "metadata": {},
   "outputs": [
    {
     "ename": "ValueError",
     "evalue": "did not find a match in any of xarray's currently installed IO backends ['netcdf4', 'scipy']. Consider explicitly selecting one of the installed engines via the ``engine`` parameter, or installing additional IO dependencies, see:\nhttp://xarray.pydata.org/en/stable/getting-started-guide/installing.html\nhttp://xarray.pydata.org/en/stable/user-guide/io.html",
     "output_type": "error",
     "traceback": [
      "\u001B[1;31m---------------------------------------------------------------------------\u001B[0m",
      "\u001B[1;31mValueError\u001B[0m                                Traceback (most recent call last)",
      "\u001B[1;32m<ipython-input-12-3cce9e22904d>\u001B[0m in \u001B[0;36m<module>\u001B[1;34m\u001B[0m\n\u001B[1;32m----> 1\u001B[1;33m \u001B[0mbahamas\u001B[0m \u001B[1;33m=\u001B[0m \u001B[0mreader\u001B[0m\u001B[1;33m.\u001B[0m\u001B[0mread_bahamas\u001B[0m\u001B[1;33m(\u001B[0m\u001B[0mflight\u001B[0m\u001B[1;33m)\u001B[0m\u001B[1;33m\u001B[0m\u001B[1;33m\u001B[0m\u001B[0m\n\u001B[0m\u001B[0;32m      2\u001B[0m \u001B[0mbahamas_rs\u001B[0m \u001B[1;33m=\u001B[0m \u001B[0mbahamas\u001B[0m\u001B[1;33m.\u001B[0m\u001B[0msel\u001B[0m\u001B[1;33m(\u001B[0m\u001B[0mtime\u001B[0m\u001B[1;33m=\u001B[0m\u001B[0mslice\u001B[0m\u001B[1;33m(\u001B[0m\u001B[0mrs_start\u001B[0m\u001B[1;33m,\u001B[0m \u001B[0mrs_end\u001B[0m\u001B[1;33m)\u001B[0m\u001B[1;33m)\u001B[0m  \u001B[1;31m# select subset of radiation square\u001B[0m\u001B[1;33m\u001B[0m\u001B[1;33m\u001B[0m\u001B[0m\n\u001B[0;32m      3\u001B[0m \u001B[0msmart_fdw_vnir_file\u001B[0m \u001B[1;33m=\u001B[0m \u001B[1;33m[\u001B[0m\u001B[0mf\u001B[0m \u001B[1;32mfor\u001B[0m \u001B[0mf\u001B[0m \u001B[1;32min\u001B[0m \u001B[0mos\u001B[0m\u001B[1;33m.\u001B[0m\u001B[0mlistdir\u001B[0m\u001B[1;33m(\u001B[0m\u001B[0msmart_dir\u001B[0m\u001B[1;33m)\u001B[0m \u001B[1;32mif\u001B[0m \u001B[1;34m\"Fdw_VNIR\"\u001B[0m \u001B[1;32min\u001B[0m \u001B[0mf\u001B[0m\u001B[1;33m]\u001B[0m\u001B[1;33m[\u001B[0m\u001B[1;36m0\u001B[0m\u001B[1;33m]\u001B[0m\u001B[1;33m\u001B[0m\u001B[1;33m\u001B[0m\u001B[0m\n\u001B[0;32m      4\u001B[0m \u001B[0msmart_fdw_vnir\u001B[0m \u001B[1;33m=\u001B[0m \u001B[0mreader\u001B[0m\u001B[1;33m.\u001B[0m\u001B[0mread_smart_cor\u001B[0m\u001B[1;33m(\u001B[0m\u001B[0msmart_dir\u001B[0m\u001B[1;33m,\u001B[0m \u001B[0msmart_fdw_vnir_file\u001B[0m\u001B[1;33m)\u001B[0m\u001B[1;33m\u001B[0m\u001B[1;33m\u001B[0m\u001B[0m\n\u001B[0;32m      5\u001B[0m \u001B[0msmart_fdw_swir_file\u001B[0m \u001B[1;33m=\u001B[0m \u001B[1;33m[\u001B[0m\u001B[0mf\u001B[0m \u001B[1;32mfor\u001B[0m \u001B[0mf\u001B[0m \u001B[1;32min\u001B[0m \u001B[0mos\u001B[0m\u001B[1;33m.\u001B[0m\u001B[0mlistdir\u001B[0m\u001B[1;33m(\u001B[0m\u001B[0msmart_dir\u001B[0m\u001B[1;33m)\u001B[0m \u001B[1;32mif\u001B[0m \u001B[1;34m\"Fdw_SWIR\"\u001B[0m \u001B[1;32min\u001B[0m \u001B[0mf\u001B[0m\u001B[1;33m]\u001B[0m\u001B[1;33m[\u001B[0m\u001B[1;36m0\u001B[0m\u001B[1;33m]\u001B[0m\u001B[1;33m\u001B[0m\u001B[1;33m\u001B[0m\u001B[0m\n",
      "\u001B[1;32m~\\anaconda3\\lib\\site-packages\\pylim\\reader.py\u001B[0m in \u001B[0;36mread_bahamas\u001B[1;34m(bahamas_path)\u001B[0m\n\u001B[0;32m     50\u001B[0m \u001B[1;33m\u001B[0m\u001B[0m\n\u001B[0;32m     51\u001B[0m     \"\"\"\n\u001B[1;32m---> 52\u001B[1;33m     \u001B[0mds\u001B[0m \u001B[1;33m=\u001B[0m \u001B[0mxr\u001B[0m\u001B[1;33m.\u001B[0m\u001B[0mopen_dataset\u001B[0m\u001B[1;33m(\u001B[0m\u001B[0mbahamas_path\u001B[0m\u001B[1;33m)\u001B[0m\u001B[1;33m\u001B[0m\u001B[1;33m\u001B[0m\u001B[0m\n\u001B[0m\u001B[0;32m     53\u001B[0m     \u001B[0mds\u001B[0m \u001B[1;33m=\u001B[0m \u001B[0mds\u001B[0m\u001B[1;33m.\u001B[0m\u001B[0mswap_dims\u001B[0m\u001B[1;33m(\u001B[0m\u001B[1;33m{\u001B[0m\u001B[1;34m\"tid\"\u001B[0m\u001B[1;33m:\u001B[0m \u001B[1;34m\"TIME\"\u001B[0m\u001B[1;33m}\u001B[0m\u001B[1;33m)\u001B[0m\u001B[1;33m\u001B[0m\u001B[1;33m\u001B[0m\u001B[0m\n\u001B[0;32m     54\u001B[0m     \u001B[0mds\u001B[0m \u001B[1;33m=\u001B[0m \u001B[0mds\u001B[0m\u001B[1;33m.\u001B[0m\u001B[0mrename\u001B[0m\u001B[1;33m(\u001B[0m\u001B[1;33m{\u001B[0m\u001B[1;34m\"TIME\"\u001B[0m\u001B[1;33m:\u001B[0m \u001B[1;34m\"time\"\u001B[0m\u001B[1;33m}\u001B[0m\u001B[1;33m)\u001B[0m\u001B[1;33m\u001B[0m\u001B[1;33m\u001B[0m\u001B[0m\n",
      "\u001B[1;32m~\\anaconda3\\lib\\site-packages\\xarray\\backends\\api.py\u001B[0m in \u001B[0;36mopen_dataset\u001B[1;34m(filename_or_obj, engine, chunks, cache, decode_cf, mask_and_scale, decode_times, decode_timedelta, use_cftime, concat_characters, decode_coords, drop_variables, backend_kwargs, *args, **kwargs)\u001B[0m\n\u001B[0;32m    477\u001B[0m \u001B[1;33m\u001B[0m\u001B[0m\n\u001B[0;32m    478\u001B[0m     \u001B[1;32mif\u001B[0m \u001B[0mengine\u001B[0m \u001B[1;32mis\u001B[0m \u001B[1;32mNone\u001B[0m\u001B[1;33m:\u001B[0m\u001B[1;33m\u001B[0m\u001B[1;33m\u001B[0m\u001B[0m\n\u001B[1;32m--> 479\u001B[1;33m         \u001B[0mengine\u001B[0m \u001B[1;33m=\u001B[0m \u001B[0mplugins\u001B[0m\u001B[1;33m.\u001B[0m\u001B[0mguess_engine\u001B[0m\u001B[1;33m(\u001B[0m\u001B[0mfilename_or_obj\u001B[0m\u001B[1;33m)\u001B[0m\u001B[1;33m\u001B[0m\u001B[1;33m\u001B[0m\u001B[0m\n\u001B[0m\u001B[0;32m    480\u001B[0m \u001B[1;33m\u001B[0m\u001B[0m\n\u001B[0;32m    481\u001B[0m     \u001B[0mbackend\u001B[0m \u001B[1;33m=\u001B[0m \u001B[0mplugins\u001B[0m\u001B[1;33m.\u001B[0m\u001B[0mget_backend\u001B[0m\u001B[1;33m(\u001B[0m\u001B[0mengine\u001B[0m\u001B[1;33m)\u001B[0m\u001B[1;33m\u001B[0m\u001B[1;33m\u001B[0m\u001B[0m\n",
      "\u001B[1;32m~\\anaconda3\\lib\\site-packages\\xarray\\backends\\plugins.py\u001B[0m in \u001B[0;36mguess_engine\u001B[1;34m(store_spec)\u001B[0m\n\u001B[0;32m    150\u001B[0m         )\n\u001B[0;32m    151\u001B[0m \u001B[1;33m\u001B[0m\u001B[0m\n\u001B[1;32m--> 152\u001B[1;33m     \u001B[1;32mraise\u001B[0m \u001B[0mValueError\u001B[0m\u001B[1;33m(\u001B[0m\u001B[0merror_msg\u001B[0m\u001B[1;33m)\u001B[0m\u001B[1;33m\u001B[0m\u001B[1;33m\u001B[0m\u001B[0m\n\u001B[0m\u001B[0;32m    153\u001B[0m \u001B[1;33m\u001B[0m\u001B[0m\n\u001B[0;32m    154\u001B[0m \u001B[1;33m\u001B[0m\u001B[0m\n",
      "\u001B[1;31mValueError\u001B[0m: did not find a match in any of xarray's currently installed IO backends ['netcdf4', 'scipy']. Consider explicitly selecting one of the installed engines via the ``engine`` parameter, or installing additional IO dependencies, see:\nhttp://xarray.pydata.org/en/stable/getting-started-guide/installing.html\nhttp://xarray.pydata.org/en/stable/user-guide/io.html"
     ]
    }
   ],
   "source": [
    "bahamas = reader.read_bahamas(flight)\n",
    "bahamas_rs = bahamas.sel(time=slice(rs_start, rs_end))  # select subset of radiation square\n",
    "smart_fdw_vnir_file = [f for f in os.listdir(smart_dir) if \"Fdw_VNIR\" in f][0]\n",
    "smart_fdw_vnir = reader.read_smart_cor(smart_dir, smart_fdw_vnir_file)\n",
    "smart_fdw_swir_file = [f for f in os.listdir(smart_dir) if \"Fdw_SWIR\" in f][0]\n",
    "smart_fdw_swir = reader.read_smart_cor(smart_dir, smart_fdw_swir_file)\n",
    "fdw_sim_file = [f for f in os.listdir(libradtran_dir) if \"smart\" in f][0]\n",
    "fdw_sim = xr.open_dataset(f\"{libradtran_dir}/{fdw_sim_file}\")\n",
    "fdw_sim_rs = fdw_sim.sel(time=slice(rs_start, rs_end))"
   ]
  },
  {
   "cell_type": "markdown",
   "metadata": {},
   "source": [
    "### Integrate SMART measurements"
   ]
  },
  {
   "cell_type": "code",
   "execution_count": null,
   "metadata": {},
   "outputs": [],
   "source": [
    "smart_fdw_vnir_int = smart_fdw_vnir.sum(axis=1)\n",
    "smart_fdw_swir_int = smart_fdw_swir.sum(axis=1, skipna=False)\n",
    "smart_fdw = smart_fdw_vnir_int + smart_fdw_swir_int\n",
    "smart_fdw_rs = smart_fdw.loc[slice(rs_start, rs_end)]"
   ]
  },
  {
   "cell_type": "markdown",
   "metadata": {},
   "source": [
    "### Filter high roll angles"
   ]
  },
  {
   "cell_type": "code",
   "execution_count": null,
   "metadata": {},
   "outputs": [],
   "source": [
    "roll_filter = np.abs(bahamas_rs[\"IRS_PHI\"]) < 1\n",
    "bahamas_rs_filtered = bahamas_rs.where(roll_filter)  # select only sections with roll < 1°\n",
    "bahamas_inp = bahamas_rs.interp(time=smart_fdw_rs.index)  # interpolate bahamas on SMART time\n",
    "roll_filter_smart = np.abs(bahamas_inp[\"IRS_PHI\"]) < 1  # create filter for smart data\n",
    "smart_fdw_rs_filtered = smart_fdw_rs.where(roll_filter_smart)"
   ]
  },
  {
   "cell_type": "markdown",
   "metadata": {},
   "source": [
    "### Attitude correct F_dw with no offsets"
   ]
  },
  {
   "cell_type": "code",
   "execution_count": null,
   "metadata": {},
   "outputs": [],
   "source": [
    "smart_fdw_df = pd.DataFrame(smart_fdw).rename(columns={0: \"F_down\"})  # make dataframe from series\n",
    "# interpolate libradtran simulation and bahamas on smart time\n",
    "fdw_sim_inp = fdw_sim.interp(time=smart_fdw.index, kwargs=dict(fill_value=\"extrapolate\"))\n",
    "bahamas_inp = bahamas.interp(time=smart_fdw.index, kwargs=dict(fill_value=\"extrapolate\"))\n",
    "F_down_att_no_offset, factor = fdw_attitude_correction(smart_fdw_df[\"F_down\"].values,\n",
    "                                                       roll=bahamas_inp.IRS_PHI.values,\n",
    "                                                       pitch=-bahamas_inp.IRS_THE.values,\n",
    "                                                       yaw=bahamas_inp.IRS_HDG.values, sza=fdw_sim_inp.sza.values,\n",
    "                                                       saa=fdw_sim_inp.saa.values,\n",
    "                                                       fdir=fdw_sim_inp.direct_fraction.values,\n",
    "                                                       r_off=0, p_off=0)\n",
    "smart_fdw_df[\"F_down_att_no\"] = F_down_att_no_offset\n",
    "# select radiation square\n",
    "smart_fdw_df_rs = smart_fdw_df.loc[slice(rs_start, rs_end)]\n",
    "smart_fdw_df_rs_filtered = smart_fdw_df_rs.loc[roll_filter_smart.values]"
   ]
  },
  {
   "cell_type": "markdown",
   "metadata": {},
   "source": [
    "### Function to attitude correct with roll and pitch offset"
   ]
  },
  {
   "cell_type": "code",
   "execution_count": null,
   "metadata": {},
   "outputs": [],
   "source": [
    "# all cells above have to be run, as this function uses not only lcoal variables! (This is bad coding but works here)\n",
    "def att_corr(roll_offset, pitch_offset):\n",
    "    F_down_att, factor = fdw_attitude_correction(smart_fdw_df[\"F_down\"].values,\n",
    "                                                 roll=bahamas_inp.IRS_PHI.values, pitch=-bahamas_inp.IRS_THE.values,\n",
    "                                                 yaw=bahamas_inp.IRS_HDG.values, sza=fdw_sim_inp.sza.values,\n",
    "                                                 saa=fdw_sim_inp.saa.values, fdir=fdw_sim_inp.direct_fraction.values,\n",
    "                                                 r_off=roll_offset, p_off=pitch_offset)\n",
    "\n",
    "    smart_fdw_df[\"F_down_att\"] = F_down_att\n",
    "    smart_fdw_df_rs = smart_fdw_df.loc[slice(rs_start, rs_end)]\n",
    "    smart_fdw_df_rs_filtered = smart_fdw_df_rs.loc[roll_filter_smart.values]\n",
    "    return hv.Curve(smart_fdw_df_rs_filtered[\"F_down_att\"])"
   ]
  },
  {
   "cell_type": "code",
   "execution_count": null,
   "metadata": {},
   "outputs": [],
   "source": [
    "def diff_per(roll_offset, pitch_offset):\n",
    "    F_down_att, factor = fdw_attitude_correction(smart_fdw_df[\"F_down\"].values,\n",
    "                                                 roll=bahamas_inp.IRS_PHI.values, pitch=-bahamas_inp.IRS_THE.values,\n",
    "                                                 yaw=bahamas_inp.IRS_HDG.values, sza=fdw_sim_inp.sza.values,\n",
    "                                                 saa=fdw_sim_inp.saa.values, fdir=fdw_sim_inp.direct_fraction.values,\n",
    "                                                 r_off=roll_offset, p_off=pitch_offset)\n",
    "\n",
    "    smart_fdw_df[\"F_down_att\"] = F_down_att\n",
    "    smart_fdw_df_rs = smart_fdw_df.loc[slice(rs_start, rs_end)]\n",
    "    fdw_diff = smart_fdw_df_rs.F_down_att - fdw_sim_inp[\"fdw\"].sel(time=slice(rs_start, rs_end))\n",
    "    fdw_diff_pc = np.abs(fdw_diff / smart_fdw_df_rs.F_down_att) * 100\n",
    "    fdw_diff_pc_filtered = fdw_diff_pc.loc[roll_filter_smart.values]\n",
    "    return hv.Curve(fdw_diff_pc_filtered)"
   ]
  },
  {
   "cell_type": "markdown",
   "metadata": {
    "tags": []
   },
   "source": [
    "### Create curves for plotting"
   ]
  },
  {
   "cell_type": "code",
   "execution_count": null,
   "metadata": {},
   "outputs": [],
   "source": [
    "simulation = hv.Curve(fdw_sim_rs.fdw, label=\"Clear Sky Simulation\").opts(color=\"purple\", line_width=4)\n",
    "no_offset = hv.Curve(smart_fdw_df_rs_filtered.F_down_att_no, label=\"No offset\").opts(color=\"green\", line_width=4)\n",
    "dmap = hv.DynamicMap(att_corr, kdims=['roll_offset', 'pitch_offset']).opts(color=\"red\", line_width=3)\n",
    "dmap = dmap.redim.range(roll_offset=(-3, 3.0), pitch_offset=(-5, 5.0))"
   ]
  },
  {
   "cell_type": "code",
   "execution_count": null,
   "metadata": {},
   "outputs": [],
   "source": [
    "overlay = simulation * no_offset * dmap"
   ]
  },
  {
   "cell_type": "code",
   "execution_count": null,
   "metadata": {},
   "outputs": [],
   "source": [
    "%%opts Overlay [fontsize={'title':14, 'xlabel':16, 'ylabel':16, 'ticks':12}, xlabel=\"Time (UTC)\", ylabel=\"Downward Irradiance (W m-2)\"]\n",
    "hv.output(widget_location='bottom')\n",
    "overlay.opts(height=400, width=900, show_grid=True, show_legend=True, legend_position=\"bottom\")\n"
   ]
  },
  {
   "cell_type": "markdown",
   "metadata": {},
   "source": [
    "## Difference between corrected measurement and simulation"
   ]
  },
  {
   "cell_type": "code",
   "execution_count": null,
   "metadata": {},
   "outputs": [],
   "source": [
    "dmap = hv.DynamicMap(diff_per, kdims=['roll_offset', 'pitch_offset']).opts(color=\"red\", line_width=3)\n",
    "dmap = dmap.redim.range(roll_offset=(-3, 3.0), pitch_offset=(-5, 5.0))\n",
    "dmap.opts(height=400, width=900, show_grid=True, show_legend=True, ylabel=\"Difference (%)\", xlabel=\"Time (UTC)\", fontsize={'title':14, 'xlabel':16, 'ylabel':16, 'ticks':12})"
   ]
  }
 ],
 "metadata": {
  "kernelspec": {
   "display_name": "Python 3",
   "language": "python",
   "name": "python3"
  },
  "language_info": {
   "codemirror_mode": {
    "name": "ipython",
    "version": 3
   },
   "file_extension": ".py",
   "mimetype": "text/x-python",
   "name": "python",
   "nbconvert_exporter": "python",
   "pygments_lexer": "ipython3",
   "version": "3.8.5"
  },
  "widgets": {
   "application/vnd.jupyter.widget-state+json": {
    "state": {},
    "version_major": 2,
    "version_minor": 0
   }
  }
 },
 "nbformat": 4,
 "nbformat_minor": 4
}